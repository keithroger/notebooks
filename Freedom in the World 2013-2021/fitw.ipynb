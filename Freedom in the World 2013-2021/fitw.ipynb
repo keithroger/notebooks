{
 "cells": [
  {
   "cell_type": "code",
   "execution_count": 1,
   "metadata": {
    "execution": {
     "iopub.execute_input": "2021-10-16T19:45:31.420768Z",
     "iopub.status.busy": "2021-10-16T19:45:31.420247Z",
     "iopub.status.idle": "2021-10-16T19:45:31.856791Z",
     "shell.execute_reply": "2021-10-16T19:45:31.856230Z"
    }
   },
   "outputs": [],
   "source": [
    "import pandas as pd\n",
    "import seaborn as sns\n",
    "import matplotlib.pyplot as plt"
   ]
  },
  {
   "cell_type": "markdown",
   "metadata": {},
   "source": [
    "# Freedom in the World 2013 - 2021 EDA\n",
    "dataset is available from https://freedomhouse.org/report/freedom-world"
   ]
  },
  {
   "cell_type": "code",
   "execution_count": 2,
   "metadata": {
    "execution": {
     "iopub.execute_input": "2021-10-16T19:45:31.860179Z",
     "iopub.status.busy": "2021-10-16T19:45:31.859701Z",
     "iopub.status.idle": "2021-10-16T19:45:32.503996Z",
     "shell.execute_reply": "2021-10-16T19:45:32.504390Z"
    }
   },
   "outputs": [
    {
     "data": {
      "text/html": [
       "<div>\n",
       "<style scoped>\n",
       "    .dataframe tbody tr th:only-of-type {\n",
       "        vertical-align: middle;\n",
       "    }\n",
       "\n",
       "    .dataframe tbody tr th {\n",
       "        vertical-align: top;\n",
       "    }\n",
       "\n",
       "    .dataframe thead th {\n",
       "        text-align: right;\n",
       "    }\n",
       "</style>\n",
       "<table border=\"1\" class=\"dataframe\">\n",
       "  <thead>\n",
       "    <tr style=\"text-align: right;\">\n",
       "      <th></th>\n",
       "      <th>Country</th>\n",
       "      <th>Region</th>\n",
       "      <th>Year</th>\n",
       "      <th>Status</th>\n",
       "      <th>PR rating</th>\n",
       "      <th>CL rating</th>\n",
       "      <th>PR</th>\n",
       "      <th>CL</th>\n",
       "      <th>Total</th>\n",
       "    </tr>\n",
       "  </thead>\n",
       "  <tbody>\n",
       "    <tr>\n",
       "      <th>1</th>\n",
       "      <td>Afghanistan</td>\n",
       "      <td>Asia</td>\n",
       "      <td>2021</td>\n",
       "      <td>NF</td>\n",
       "      <td>5</td>\n",
       "      <td>6</td>\n",
       "      <td>13</td>\n",
       "      <td>14</td>\n",
       "      <td>27</td>\n",
       "    </tr>\n",
       "    <tr>\n",
       "      <th>2</th>\n",
       "      <td>Albania</td>\n",
       "      <td>Europe</td>\n",
       "      <td>2021</td>\n",
       "      <td>PF</td>\n",
       "      <td>3</td>\n",
       "      <td>3</td>\n",
       "      <td>27</td>\n",
       "      <td>39</td>\n",
       "      <td>66</td>\n",
       "    </tr>\n",
       "    <tr>\n",
       "      <th>3</th>\n",
       "      <td>Algeria</td>\n",
       "      <td>MENA</td>\n",
       "      <td>2021</td>\n",
       "      <td>NF</td>\n",
       "      <td>6</td>\n",
       "      <td>5</td>\n",
       "      <td>10</td>\n",
       "      <td>22</td>\n",
       "      <td>32</td>\n",
       "    </tr>\n",
       "    <tr>\n",
       "      <th>4</th>\n",
       "      <td>Andorra</td>\n",
       "      <td>Europe</td>\n",
       "      <td>2021</td>\n",
       "      <td>F</td>\n",
       "      <td>1</td>\n",
       "      <td>1</td>\n",
       "      <td>38</td>\n",
       "      <td>55</td>\n",
       "      <td>93</td>\n",
       "    </tr>\n",
       "    <tr>\n",
       "      <th>5</th>\n",
       "      <td>Angola</td>\n",
       "      <td>SSA</td>\n",
       "      <td>2021</td>\n",
       "      <td>NF</td>\n",
       "      <td>6</td>\n",
       "      <td>5</td>\n",
       "      <td>10</td>\n",
       "      <td>21</td>\n",
       "      <td>31</td>\n",
       "    </tr>\n",
       "  </tbody>\n",
       "</table>\n",
       "</div>"
      ],
      "text/plain": [
       "       Country  Region  Year Status  PR rating  CL rating  PR  CL  Total\n",
       "1  Afghanistan    Asia  2021     NF          5          6  13  14     27\n",
       "2      Albania  Europe  2021     PF          3          3  27  39     66\n",
       "3      Algeria    MENA  2021     NF          6          5  10  22     32\n",
       "4      Andorra  Europe  2021      F          1          1  38  55     93\n",
       "5       Angola     SSA  2021     NF          6          5  10  21     31"
      ]
     },
     "execution_count": 2,
     "metadata": {},
     "output_type": "execute_result"
    }
   ],
   "source": [
    "# Read country data from excel file\n",
    "excel_filename = 'All_data_FIW_2013-2021.xlsx'\n",
    "fiw = pd.read_excel(\n",
    "        excel_filename,\n",
    "        sheet_name=1,\n",
    "        header=1,\n",
    "        usecols='A:G, W, AQ, AR')\n",
    "fiw.head()\n",
    "# Remove territories from dataset\n",
    "countries = fiw[fiw['C/T'] == 'c']\n",
    "countries = countries.drop('C/T', axis=1)\n",
    "countries = countries.rename(\n",
    "        columns={'Country/Territory': 'Country', 'Edition': 'Year'})\n",
    "countries.head()"
   ]
  },
  {
   "cell_type": "code",
   "execution_count": 3,
   "metadata": {
    "execution": {
     "iopub.execute_input": "2021-10-16T19:45:32.520910Z",
     "iopub.status.busy": "2021-10-16T19:45:32.510498Z",
     "iopub.status.idle": "2021-10-16T19:45:32.704310Z",
     "shell.execute_reply": "2021-10-16T19:45:32.704650Z"
    }
   },
   "outputs": [
    {
     "data": {
      "image/png": "[encoded data removed]",
      "text/plain": [
       "<Figure size 432x288 with 1 Axes>"
      ]
     },
     "metadata": {
      "needs_background": "light"
     },
     "output_type": "display_data"
    }
   ],
   "source": [
    "# Bar graph of all counties in 2021\n",
    "# TODO change to line graph over time\n",
    "plt.figure()\n",
    "highest_gdp = [\n",
    "        'United States', 'China', 'Japan', 'United Kingdom', 'India',\n",
    "        'France', 'Italy', 'Canada', 'South Korea', 'Russia', 'Brazil',\n",
    "        'Australia', 'Spain', 'Indonesia', 'Mexico', 'Netherlands',\n",
    "        'Switzerland', 'Saudi Arabia', 'Turkey']\n",
    "scores = countries[countries['Year'] == 2021]\n",
    "scores = scores[scores['Country'].isin(highest_gdp)]\n",
    "scores = scores.sort_values(\n",
    "        by='Total',\n",
    "        axis=0,\n",
    "        ascending=False)\n",
    "g = sns.barplot(\n",
    "        x='Country',\n",
    "        y='Total',\n",
    "        data=scores)\n",
    "g.set_title('2021 FITW Score for Top 20 GDP')\n",
    "plt.xticks(rotation=35, ha='right')\n",
    "plt.tight_layout()\n",
    "plt.savefig('images/country_scores_by_gdp.png')"
   ]
  },
  {
   "cell_type": "code",
   "execution_count": 4,
   "metadata": {
    "execution": {
     "iopub.execute_input": "2021-10-16T19:45:32.708594Z",
     "iopub.status.busy": "2021-10-16T19:45:32.708113Z",
     "iopub.status.idle": "2021-10-16T19:45:33.631502Z",
     "shell.execute_reply": "2021-10-16T19:45:33.631037Z"
    }
   },
   "outputs": [
    {
     "data": {
      "text/plain": [
       "<Figure size 432x288 with 0 Axes>"
      ]
     },
     "metadata": {},
     "output_type": "display_data"
    },
    {
     "data": {
      "image/png": "[encoded data removed]",
      "text/plain": [
       "<Figure size 720x1080 with 6 Axes>"
      ]
     },
     "metadata": {
      "needs_background": "light"
     },
     "output_type": "display_data"
    }
   ],
   "source": [
    "# voilin plot showing the change in distribution by year\n",
    "plt.figure()\n",
    "g = sns.catplot(\n",
    "        x='Year',\n",
    "        y='Total',\n",
    "        data=countries,\n",
    "        kind='box',\n",
    "        col='Region',\n",
    "        col_wrap=2)\n",
    "g.set_titles('{col_name}')\n",
    "g.fig.suptitle('FITW Total Score by Region and Year')\n",
    "plt.tight_layout()\n",
    "plt.savefig('images/scores_by_year_voilin_plot.png')"
   ]
  },
  {
   "cell_type": "code",
   "execution_count": 5,
   "metadata": {
    "execution": {
     "iopub.execute_input": "2021-10-16T19:45:33.635863Z",
     "iopub.status.busy": "2021-10-16T19:45:33.635102Z",
     "iopub.status.idle": "2021-10-16T19:45:33.839309Z",
     "shell.execute_reply": "2021-10-16T19:45:33.838893Z"
    }
   },
   "outputs": [
    {
     "data": {
      "image/png": "[encoded data removed]",
      "text/plain": [
       "<Figure size 432x288 with 1 Axes>"
      ]
     },
     "metadata": {
      "needs_background": "light"
     },
     "output_type": "display_data"
    }
   ],
   "source": [
    "# barplot time vs status\n",
    "plt.figure()\n",
    "g = sns.countplot(x='Year', hue='Status', data=countries)\n",
    "g.set_title('Counts by Year and Status')\n",
    "plt.savefig('images/counts_by_year_and_status.png')\n",
    "plt.tight_layout()"
   ]
  },
  {
   "cell_type": "code",
   "execution_count": 6,
   "metadata": {
    "execution": {
     "iopub.execute_input": "2021-10-16T19:45:33.841980Z",
     "iopub.status.busy": "2021-10-16T19:45:33.841506Z",
     "iopub.status.idle": "2021-10-16T19:45:33.842930Z",
     "shell.execute_reply": "2021-10-16T19:45:33.843307Z"
    }
   },
   "outputs": [],
   "source": [
    "# region vs year vs total"
   ]
  },
  {
   "cell_type": "code",
   "execution_count": 7,
   "metadata": {
    "execution": {
     "iopub.execute_input": "2021-10-16T19:45:33.845597Z",
     "iopub.status.busy": "2021-10-16T19:45:33.845127Z",
     "iopub.status.idle": "2021-10-16T19:45:33.846816Z",
     "shell.execute_reply": "2021-10-16T19:45:33.846389Z"
    }
   },
   "outputs": [],
   "source": [
    "# PR vs CL dot plot with histograms on the sides"
   ]
  },
  {
   "cell_type": "code",
   "execution_count": 8,
   "metadata": {
    "execution": {
     "iopub.execute_input": "2021-10-16T19:45:33.849049Z",
     "iopub.status.busy": "2021-10-16T19:45:33.848582Z",
     "iopub.status.idle": "2021-10-16T19:45:33.850270Z",
     "shell.execute_reply": "2021-10-16T19:45:33.849845Z"
    }
   },
   "outputs": [],
   "source": [
    "# PR vs CL diagonal corrolation matrix"
   ]
  },
  {
   "cell_type": "code",
   "execution_count": 9,
   "metadata": {
    "execution": {
     "iopub.execute_input": "2021-10-16T19:45:33.852461Z",
     "iopub.status.busy": "2021-10-16T19:45:33.852019Z",
     "iopub.status.idle": "2021-10-16T19:45:33.853775Z",
     "shell.execute_reply": "2021-10-16T19:45:33.853326Z"
    }
   },
   "outputs": [],
   "source": [
    "# counties vs PR vs CL violin plot"
   ]
  },
  {
   "cell_type": "code",
   "execution_count": 10,
   "metadata": {
    "execution": {
     "iopub.execute_input": "2021-10-16T19:45:33.855475Z",
     "iopub.status.busy": "2021-10-16T19:45:33.855031Z",
     "iopub.status.idle": "2021-10-16T19:45:33.857064Z",
     "shell.execute_reply": "2021-10-16T19:45:33.856615Z"
    }
   },
   "outputs": [],
   "source": [
    "# linegraph with biggest economies (country by time)"
   ]
  },
  {
   "cell_type": "code",
   "execution_count": 11,
   "metadata": {
    "execution": {
     "iopub.execute_input": "2021-10-16T19:45:33.859089Z",
     "iopub.status.busy": "2021-10-16T19:45:33.858650Z",
     "iopub.status.idle": "2021-10-16T19:45:33.860320Z",
     "shell.execute_reply": "2021-10-16T19:45:33.859876Z"
    }
   },
   "outputs": [],
   "source": [
    "# 2d historgram of counties by time"
   ]
  },
  {
   "cell_type": "code",
   "execution_count": 12,
   "metadata": {
    "execution": {
     "iopub.execute_input": "2021-10-16T19:45:33.862245Z",
     "iopub.status.busy": "2021-10-16T19:45:33.861812Z",
     "iopub.status.idle": "2021-10-16T19:45:33.863579Z",
     "shell.execute_reply": "2021-10-16T19:45:33.863193Z"
    }
   },
   "outputs": [],
   "source": [
    "# avg scores vs time"
   ]
  },
  {
   "cell_type": "code",
   "execution_count": 13,
   "metadata": {
    "execution": {
     "iopub.execute_input": "2021-10-16T19:45:33.865593Z",
     "iopub.status.busy": "2021-10-16T19:45:33.865147Z",
     "iopub.status.idle": "2021-10-16T19:45:33.866484Z",
     "shell.execute_reply": "2021-10-16T19:45:33.866836Z"
    }
   },
   "outputs": [],
   "source": [
    "# most improved"
   ]
  },
  {
   "cell_type": "code",
   "execution_count": 14,
   "metadata": {
    "execution": {
     "iopub.execute_input": "2021-10-16T19:45:33.868879Z",
     "iopub.status.busy": "2021-10-16T19:45:33.868442Z",
     "iopub.status.idle": "2021-10-16T19:45:33.870127Z",
     "shell.execute_reply": "2021-10-16T19:45:33.869740Z"
    }
   },
   "outputs": [],
   "source": [
    "# most unimproved\n"
   ]
  }
 ],
 "metadata": {
  "anaconda-cloud": {},
  "kernelspec": {
   "display_name": "Python 3",
   "language": "python",
   "name": "python3"
  },
  "language_info": {
   "codemirror_mode": {
    "name": "ipython",
    "version": 3
   },
   "file_extension": ".py",
   "mimetype": "text/x-python",
   "name": "python",
   "nbconvert_exporter": "python",
   "pygments_lexer": "ipython3",
   "version": "3.8.11"
  }
 },
 "nbformat": 4,
 "nbformat_minor": 4
}
