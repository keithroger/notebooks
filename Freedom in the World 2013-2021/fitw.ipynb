{
 "cells": [
  {
   "cell_type": "code",
   "execution_count": 1,
   "metadata": {
    "execution": {
     "iopub.execute_input": "2021-10-16T19:18:07.035232Z",
     "iopub.status.busy": "2021-10-16T19:18:07.034627Z",
     "iopub.status.idle": "2021-10-16T19:18:07.481508Z",
     "shell.execute_reply": "2021-10-16T19:18:07.481009Z"
    }
   },
   "outputs": [],
   "source": [
    "import pandas as pd\n",
    "import seaborn as sns\n",
    "import matplotlib.pyplot as plt"
   ]
  },
  {
   "cell_type": "markdown",
   "metadata": {},
   "source": [
    "# Freedom in the World 2013 - 2021 EDA\n",
    "dataset is available from https://freedomhouse.org/report/freedom-world\n",
    "'''\n",
    "# %%\n",
    "sns.set_theme(style='whitegrid')\n",
    "sns.set_style('ticks')"
   ]
  },
  {
   "cell_type": "code",
   "execution_count": 2,
   "metadata": {
    "execution": {
     "iopub.execute_input": "2021-10-16T19:18:07.484946Z",
     "iopub.status.busy": "2021-10-16T19:18:07.484470Z",
     "iopub.status.idle": "2021-10-16T19:18:08.141877Z",
     "shell.execute_reply": "2021-10-16T19:18:08.142279Z"
    }
   },
   "outputs": [
    {
     "data": {
      "text/html": [
       "<div>\n",
       "<style scoped>\n",
       "    .dataframe tbody tr th:only-of-type {\n",
       "        vertical-align: middle;\n",
       "    }\n",
       "\n",
       "    .dataframe tbody tr th {\n",
       "        vertical-align: top;\n",
       "    }\n",
       "\n",
       "    .dataframe thead th {\n",
       "        text-align: right;\n",
       "    }\n",
       "</style>\n",
       "<table border=\"1\" class=\"dataframe\">\n",
       "  <thead>\n",
       "    <tr style=\"text-align: right;\">\n",
       "      <th></th>\n",
       "      <th>Country</th>\n",
       "      <th>Region</th>\n",
       "      <th>Year</th>\n",
       "      <th>Status</th>\n",
       "      <th>PR rating</th>\n",
       "      <th>CL rating</th>\n",
       "      <th>PR</th>\n",
       "      <th>CL</th>\n",
       "      <th>Total</th>\n",
       "    </tr>\n",
       "  </thead>\n",
       "  <tbody>\n",
       "    <tr>\n",
       "      <th>1</th>\n",
       "      <td>Afghanistan</td>\n",
       "      <td>Asia</td>\n",
       "      <td>2021</td>\n",
       "      <td>NF</td>\n",
       "      <td>5</td>\n",
       "      <td>6</td>\n",
       "      <td>13</td>\n",
       "      <td>14</td>\n",
       "      <td>27</td>\n",
       "    </tr>\n",
       "    <tr>\n",
       "      <th>2</th>\n",
       "      <td>Albania</td>\n",
       "      <td>Europe</td>\n",
       "      <td>2021</td>\n",
       "      <td>PF</td>\n",
       "      <td>3</td>\n",
       "      <td>3</td>\n",
       "      <td>27</td>\n",
       "      <td>39</td>\n",
       "      <td>66</td>\n",
       "    </tr>\n",
       "    <tr>\n",
       "      <th>3</th>\n",
       "      <td>Algeria</td>\n",
       "      <td>MENA</td>\n",
       "      <td>2021</td>\n",
       "      <td>NF</td>\n",
       "      <td>6</td>\n",
       "      <td>5</td>\n",
       "      <td>10</td>\n",
       "      <td>22</td>\n",
       "      <td>32</td>\n",
       "    </tr>\n",
       "    <tr>\n",
       "      <th>4</th>\n",
       "      <td>Andorra</td>\n",
       "      <td>Europe</td>\n",
       "      <td>2021</td>\n",
       "      <td>F</td>\n",
       "      <td>1</td>\n",
       "      <td>1</td>\n",
       "      <td>38</td>\n",
       "      <td>55</td>\n",
       "      <td>93</td>\n",
       "    </tr>\n",
       "    <tr>\n",
       "      <th>5</th>\n",
       "      <td>Angola</td>\n",
       "      <td>SSA</td>\n",
       "      <td>2021</td>\n",
       "      <td>NF</td>\n",
       "      <td>6</td>\n",
       "      <td>5</td>\n",
       "      <td>10</td>\n",
       "      <td>21</td>\n",
       "      <td>31</td>\n",
       "    </tr>\n",
       "  </tbody>\n",
       "</table>\n",
       "</div>"
      ],
      "text/plain": [
       "       Country  Region  Year Status  PR rating  CL rating  PR  CL  Total\n",
       "1  Afghanistan    Asia  2021     NF          5          6  13  14     27\n",
       "2      Albania  Europe  2021     PF          3          3  27  39     66\n",
       "3      Algeria    MENA  2021     NF          6          5  10  22     32\n",
       "4      Andorra  Europe  2021      F          1          1  38  55     93\n",
       "5       Angola     SSA  2021     NF          6          5  10  21     31"
      ]
     },
     "execution_count": 2,
     "metadata": {},
     "output_type": "execute_result"
    }
   ],
   "source": [
    "# Read country data from excel file\n",
    "excel_filename = 'All_data_FIW_2013-2021.xlsx'\n",
    "fiw = pd.read_excel(\n",
    "        excel_filename,\n",
    "        sheet_name=1,\n",
    "        header=1,\n",
    "        usecols='A:G, W, AQ, AR')\n",
    "fiw.head()\n",
    "# Remove territories from dataset\n",
    "countries = fiw[fiw['C/T'] == 'c']\n",
    "countries = countries.drop('C/T', axis=1)\n",
    "countries = countries.rename(\n",
    "        columns={'Country/Territory': 'Country', 'Edition': 'Year'})\n",
    "countries.head()"
   ]
  },
  {
   "cell_type": "code",
   "execution_count": 3,
   "metadata": {
    "execution": {
     "iopub.execute_input": "2021-10-16T19:18:08.158628Z",
     "iopub.status.busy": "2021-10-16T19:18:08.145646Z",
     "iopub.status.idle": "2021-10-16T19:18:08.298792Z",
     "shell.execute_reply": "2021-10-16T19:18:08.299009Z"
    }
   },
   "outputs": [
    {
     "data": {
      "text/plain": [
       "<Figure size 432x288 with 0 Axes>"
      ]
     },
     "metadata": {},
     "output_type": "display_data"
    }
   ],
   "source": [
    "# Bar graph of all counties in 2021\n",
    "# TODO change to line graph over time\n",
    "highest_gdp = [\n",
    "        'United States', 'China', 'Japan', 'United Kingdom', 'India',\n",
    "        'France', 'Italy', 'Canada', 'South Korea', 'Russia', 'Brazil',\n",
    "        'Australia', 'Spain', 'Indonesia', 'Mexico', 'Netherlands',\n",
    "        'Switzerland', 'Saudi Arabia', 'Turkey']\n",
    "scores = countries[countries['Year'] == 2021]\n",
    "scores = scores[scores['Country'].isin(highest_gdp)]\n",
    "scores = scores.sort_values(\n",
    "        by='Total',\n",
    "        axis=0,\n",
    "        ascending=False)\n",
    "g = sns.barplot(\n",
    "        x='Country',\n",
    "        y='Total',\n",
    "        data=scores)\n",
    "g.set_title('2021 FITW Score for Top 20 GDP')\n",
    "plt.xticks(rotation=35, ha='right')\n",
    "plt.tight_layout()\n",
    "plt.savefig('images/country_scores_by_gdp.png')\n",
    "plt.clf()"
   ]
  },
  {
   "cell_type": "code",
   "execution_count": 4,
   "metadata": {
    "execution": {
     "iopub.execute_input": "2021-10-16T19:18:08.301892Z",
     "iopub.status.busy": "2021-10-16T19:18:08.301503Z",
     "iopub.status.idle": "2021-10-16T19:18:09.057862Z",
     "shell.execute_reply": "2021-10-16T19:18:09.058074Z"
    }
   },
   "outputs": [
    {
     "data": {
      "text/plain": [
       "<Figure size 720x1080 with 0 Axes>"
      ]
     },
     "metadata": {},
     "output_type": "display_data"
    }
   ],
   "source": [
    "# voilin plot showing the change in distribution by year\n",
    "\n",
    "g = sns.catplot(\n",
    "        x='Year',\n",
    "        y='Total',\n",
    "        data=countries,\n",
    "        kind='box',\n",
    "        col='Region',\n",
    "        col_wrap=2)\n",
    "g.set_titles('{col_name}')\n",
    "g.fig.suptitle('FITW Total Score by Region and Year')\n",
    "plt.tight_layout()\n",
    "plt.savefig('images/scores_by_year_voilin_plot.png')\n",
    "plt.clf()"
   ]
  },
  {
   "cell_type": "code",
   "execution_count": 5,
   "metadata": {
    "execution": {
     "iopub.execute_input": "2021-10-16T19:18:09.059957Z",
     "iopub.status.busy": "2021-10-16T19:18:09.059691Z",
     "iopub.status.idle": "2021-10-16T19:18:09.061244Z",
     "shell.execute_reply": "2021-10-16T19:18:09.061029Z"
    }
   },
   "outputs": [],
   "source": [
    "# barplot time vs status"
   ]
  },
  {
   "cell_type": "code",
   "execution_count": 6,
   "metadata": {
    "execution": {
     "iopub.execute_input": "2021-10-16T19:18:09.062784Z",
     "iopub.status.busy": "2021-10-16T19:18:09.062537Z",
     "iopub.status.idle": "2021-10-16T19:18:09.063998Z",
     "shell.execute_reply": "2021-10-16T19:18:09.063746Z"
    }
   },
   "outputs": [],
   "source": [
    "# region vs year vs total"
   ]
  },
  {
   "cell_type": "code",
   "execution_count": 7,
   "metadata": {
    "execution": {
     "iopub.execute_input": "2021-10-16T19:18:09.065580Z",
     "iopub.status.busy": "2021-10-16T19:18:09.065333Z",
     "iopub.status.idle": "2021-10-16T19:18:09.066568Z",
     "shell.execute_reply": "2021-10-16T19:18:09.066771Z"
    }
   },
   "outputs": [],
   "source": [
    "# PR vs CL dot plot with histograms on the sides"
   ]
  },
  {
   "cell_type": "code",
   "execution_count": 8,
   "metadata": {
    "execution": {
     "iopub.execute_input": "2021-10-16T19:18:09.068316Z",
     "iopub.status.busy": "2021-10-16T19:18:09.068069Z",
     "iopub.status.idle": "2021-10-16T19:18:09.069281Z",
     "shell.execute_reply": "2021-10-16T19:18:09.069479Z"
    }
   },
   "outputs": [],
   "source": [
    "# PR vs CL diagonal corrolation matrix"
   ]
  },
  {
   "cell_type": "code",
   "execution_count": 9,
   "metadata": {
    "execution": {
     "iopub.execute_input": "2021-10-16T19:18:09.070949Z",
     "iopub.status.busy": "2021-10-16T19:18:09.070692Z",
     "iopub.status.idle": "2021-10-16T19:18:09.072171Z",
     "shell.execute_reply": "2021-10-16T19:18:09.071925Z"
    }
   },
   "outputs": [],
   "source": [
    "# counties vs PR vs CL violin plot"
   ]
  },
  {
   "cell_type": "code",
   "execution_count": 10,
   "metadata": {
    "execution": {
     "iopub.execute_input": "2021-10-16T19:18:09.073718Z",
     "iopub.status.busy": "2021-10-16T19:18:09.073475Z",
     "iopub.status.idle": "2021-10-16T19:18:09.074914Z",
     "shell.execute_reply": "2021-10-16T19:18:09.074667Z"
    }
   },
   "outputs": [],
   "source": [
    "# linegraph with biggest economies (country by time)"
   ]
  },
  {
   "cell_type": "code",
   "execution_count": 11,
   "metadata": {
    "execution": {
     "iopub.execute_input": "2021-10-16T19:18:09.076462Z",
     "iopub.status.busy": "2021-10-16T19:18:09.076220Z",
     "iopub.status.idle": "2021-10-16T19:18:09.077444Z",
     "shell.execute_reply": "2021-10-16T19:18:09.077643Z"
    }
   },
   "outputs": [],
   "source": [
    "# 2d historgram of counties by time"
   ]
  },
  {
   "cell_type": "code",
   "execution_count": 12,
   "metadata": {
    "execution": {
     "iopub.execute_input": "2021-10-16T19:18:09.079202Z",
     "iopub.status.busy": "2021-10-16T19:18:09.078959Z",
     "iopub.status.idle": "2021-10-16T19:18:09.080388Z",
     "shell.execute_reply": "2021-10-16T19:18:09.080180Z"
    }
   },
   "outputs": [],
   "source": [
    "# avg scores vs time"
   ]
  },
  {
   "cell_type": "code",
   "execution_count": 13,
   "metadata": {
    "execution": {
     "iopub.execute_input": "2021-10-16T19:18:09.081912Z",
     "iopub.status.busy": "2021-10-16T19:18:09.081429Z",
     "iopub.status.idle": "2021-10-16T19:18:09.083266Z",
     "shell.execute_reply": "2021-10-16T19:18:09.083022Z"
    }
   },
   "outputs": [],
   "source": [
    "# most improved"
   ]
  },
  {
   "cell_type": "code",
   "execution_count": 14,
   "metadata": {
    "execution": {
     "iopub.execute_input": "2021-10-16T19:18:09.084765Z",
     "iopub.status.busy": "2021-10-16T19:18:09.084520Z",
     "iopub.status.idle": "2021-10-16T19:18:09.085941Z",
     "shell.execute_reply": "2021-10-16T19:18:09.085694Z"
    }
   },
   "outputs": [],
   "source": [
    "# most unimproved\n"
   ]
  }
 ],
 "metadata": {
  "anaconda-cloud": {},
  "kernelspec": {
   "display_name": "Python 3",
   "language": "python",
   "name": "python3"
  },
  "language_info": {
   "codemirror_mode": {
    "name": "ipython",
    "version": 3
   },
   "file_extension": ".py",
   "mimetype": "text/x-python",
   "name": "python",
   "nbconvert_exporter": "python",
   "pygments_lexer": "ipython3",
   "version": "3.8.11"
  }
 },
 "nbformat": 4,
 "nbformat_minor": 4
}
