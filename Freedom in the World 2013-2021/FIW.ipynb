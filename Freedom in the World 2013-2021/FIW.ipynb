{
 "cells": [
  {
   "cell_type": "code",
   "execution_count": 1,
   "metadata": {
    "execution": {
     "iopub.execute_input": "2021-10-16T04:51:13.858344Z",
     "iopub.status.busy": "2021-10-16T04:51:13.857497Z",
     "iopub.status.idle": "2021-10-16T04:51:14.307848Z",
     "shell.execute_reply": "2021-10-16T04:51:14.307551Z"
    }
   },
   "outputs": [],
   "source": [
    "import pandas as pd\n",
    "import seaborn as sns\n"
   ]
  },
  {
   "cell_type": "markdown",
   "metadata": {},
   "source": [
    "# Freedom in the World 2013 - 2021 EDA\n",
    "dataset is available from https://freedomhouse.org/report/freedom-world"
   ]
  },
  {
   "cell_type": "code",
   "execution_count": 2,
   "metadata": {
    "execution": {
     "iopub.execute_input": "2021-10-16T04:51:14.311839Z",
     "iopub.status.busy": "2021-10-16T04:51:14.311598Z",
     "iopub.status.idle": "2021-10-16T04:51:14.970641Z",
     "shell.execute_reply": "2021-10-16T04:51:14.971055Z"
    }
   },
   "outputs": [
    {
     "data": {
      "text/html": [
       "<div>\n",
       "<style scoped>\n",
       "    .dataframe tbody tr th:only-of-type {\n",
       "        vertical-align: middle;\n",
       "    }\n",
       "\n",
       "    .dataframe tbody tr th {\n",
       "        vertical-align: top;\n",
       "    }\n",
       "\n",
       "    .dataframe thead th {\n",
       "        text-align: right;\n",
       "    }\n",
       "</style>\n",
       "<table border=\"1\" class=\"dataframe\">\n",
       "  <thead>\n",
       "    <tr style=\"text-align: right;\">\n",
       "      <th></th>\n",
       "      <th>Country/Territory</th>\n",
       "      <th>Region</th>\n",
       "      <th>Edition</th>\n",
       "      <th>Status</th>\n",
       "      <th>PR rating</th>\n",
       "      <th>CL rating</th>\n",
       "      <th>PR</th>\n",
       "      <th>CL</th>\n",
       "      <th>Total</th>\n",
       "    </tr>\n",
       "  </thead>\n",
       "  <tbody>\n",
       "    <tr>\n",
       "      <th>1</th>\n",
       "      <td>Afghanistan</td>\n",
       "      <td>Asia</td>\n",
       "      <td>2021</td>\n",
       "      <td>NF</td>\n",
       "      <td>5</td>\n",
       "      <td>6</td>\n",
       "      <td>13</td>\n",
       "      <td>14</td>\n",
       "      <td>27</td>\n",
       "    </tr>\n",
       "    <tr>\n",
       "      <th>2</th>\n",
       "      <td>Albania</td>\n",
       "      <td>Europe</td>\n",
       "      <td>2021</td>\n",
       "      <td>PF</td>\n",
       "      <td>3</td>\n",
       "      <td>3</td>\n",
       "      <td>27</td>\n",
       "      <td>39</td>\n",
       "      <td>66</td>\n",
       "    </tr>\n",
       "    <tr>\n",
       "      <th>3</th>\n",
       "      <td>Algeria</td>\n",
       "      <td>MENA</td>\n",
       "      <td>2021</td>\n",
       "      <td>NF</td>\n",
       "      <td>6</td>\n",
       "      <td>5</td>\n",
       "      <td>10</td>\n",
       "      <td>22</td>\n",
       "      <td>32</td>\n",
       "    </tr>\n",
       "    <tr>\n",
       "      <th>4</th>\n",
       "      <td>Andorra</td>\n",
       "      <td>Europe</td>\n",
       "      <td>2021</td>\n",
       "      <td>F</td>\n",
       "      <td>1</td>\n",
       "      <td>1</td>\n",
       "      <td>38</td>\n",
       "      <td>55</td>\n",
       "      <td>93</td>\n",
       "    </tr>\n",
       "    <tr>\n",
       "      <th>5</th>\n",
       "      <td>Angola</td>\n",
       "      <td>SSA</td>\n",
       "      <td>2021</td>\n",
       "      <td>NF</td>\n",
       "      <td>6</td>\n",
       "      <td>5</td>\n",
       "      <td>10</td>\n",
       "      <td>21</td>\n",
       "      <td>31</td>\n",
       "    </tr>\n",
       "  </tbody>\n",
       "</table>\n",
       "</div>"
      ],
      "text/plain": [
       "  Country/Territory  Region  Edition Status  PR rating  CL rating  PR  CL  \\\n",
       "1       Afghanistan    Asia     2021     NF          5          6  13  14   \n",
       "2           Albania  Europe     2021     PF          3          3  27  39   \n",
       "3           Algeria    MENA     2021     NF          6          5  10  22   \n",
       "4           Andorra  Europe     2021      F          1          1  38  55   \n",
       "5            Angola     SSA     2021     NF          6          5  10  21   \n",
       "\n",
       "   Total  \n",
       "1     27  \n",
       "2     66  \n",
       "3     32  \n",
       "4     93  \n",
       "5     31  "
      ]
     },
     "execution_count": 2,
     "metadata": {},
     "output_type": "execute_result"
    }
   ],
   "source": [
    "# Read country data from excel file\n",
    "excel_filename = 'All_data_FIW_2013-2021.xlsx'\n",
    "fiw = pd.read_excel(\n",
    "        excel_filename,\n",
    "        sheet_name=1,\n",
    "        header=1,\n",
    "        usecols='A:G, W, AQ, AR')\n",
    "fiw.head()\n",
    "# Remove territories from dataset\n",
    "countries = fiw[fiw['C/T'] == 'c']\n",
    "countries = countries.drop('C/T', axis=1)\n",
    "# TODO: rename country column\n",
    "countries.head()"
   ]
  },
  {
   "cell_type": "code",
   "execution_count": 3,
   "metadata": {
    "execution": {
     "iopub.execute_input": "2021-10-16T04:51:14.973386Z",
     "iopub.status.busy": "2021-10-16T04:51:14.972918Z",
     "iopub.status.idle": "2021-10-16T04:51:14.974641Z",
     "shell.execute_reply": "2021-10-16T04:51:14.974250Z"
    }
   },
   "outputs": [],
   "source": [
    "# Bar graph of all counties in 2021"
   ]
  },
  {
   "cell_type": "code",
   "execution_count": 4,
   "metadata": {
    "execution": {
     "iopub.execute_input": "2021-10-16T04:51:14.976637Z",
     "iopub.status.busy": "2021-10-16T04:51:14.976179Z",
     "iopub.status.idle": "2021-10-16T04:51:14.977939Z",
     "shell.execute_reply": "2021-10-16T04:51:14.977537Z"
    }
   },
   "outputs": [],
   "source": [
    "# PR vs CL dot plot with histograms on the sides"
   ]
  },
  {
   "cell_type": "code",
   "execution_count": 5,
   "metadata": {
    "execution": {
     "iopub.execute_input": "2021-10-16T04:51:14.980165Z",
     "iopub.status.busy": "2021-10-16T04:51:14.979710Z",
     "iopub.status.idle": "2021-10-16T04:51:14.981304Z",
     "shell.execute_reply": "2021-10-16T04:51:14.980844Z"
    }
   },
   "outputs": [],
   "source": [
    "# PR vs CL diagonal corrolation matrix"
   ]
  },
  {
   "cell_type": "code",
   "execution_count": 6,
   "metadata": {
    "execution": {
     "iopub.execute_input": "2021-10-16T04:51:14.983190Z",
     "iopub.status.busy": "2021-10-16T04:51:14.982737Z",
     "iopub.status.idle": "2021-10-16T04:51:14.984404Z",
     "shell.execute_reply": "2021-10-16T04:51:14.984009Z"
    }
   },
   "outputs": [],
   "source": [
    "# counties vs PR vs CL violin plot"
   ]
  },
  {
   "cell_type": "code",
   "execution_count": 7,
   "metadata": {
    "execution": {
     "iopub.execute_input": "2021-10-16T04:51:14.986396Z",
     "iopub.status.busy": "2021-10-16T04:51:14.985936Z",
     "iopub.status.idle": "2021-10-16T04:51:14.987554Z",
     "shell.execute_reply": "2021-10-16T04:51:14.987099Z"
    }
   },
   "outputs": [],
   "source": [
    "# linegraph with biggest economies (country by time)"
   ]
  },
  {
   "cell_type": "code",
   "execution_count": 8,
   "metadata": {
    "execution": {
     "iopub.execute_input": "2021-10-16T04:51:14.989408Z",
     "iopub.status.busy": "2021-10-16T04:51:14.988958Z",
     "iopub.status.idle": "2021-10-16T04:51:14.990174Z",
     "shell.execute_reply": "2021-10-16T04:51:14.990568Z"
    }
   },
   "outputs": [],
   "source": [
    "# 2d historgram of counties by time"
   ]
  },
  {
   "cell_type": "code",
   "execution_count": 9,
   "metadata": {
    "execution": {
     "iopub.execute_input": "2021-10-16T04:51:14.992452Z",
     "iopub.status.busy": "2021-10-16T04:51:14.992007Z",
     "iopub.status.idle": "2021-10-16T04:51:14.993631Z",
     "shell.execute_reply": "2021-10-16T04:51:14.993239Z"
    }
   },
   "outputs": [],
   "source": [
    "# avg scores vs time"
   ]
  },
  {
   "cell_type": "code",
   "execution_count": 10,
   "metadata": {
    "execution": {
     "iopub.execute_input": "2021-10-16T04:51:14.995253Z",
     "iopub.status.busy": "2021-10-16T04:51:14.994989Z",
     "iopub.status.idle": "2021-10-16T04:51:14.996497Z",
     "shell.execute_reply": "2021-10-16T04:51:14.996242Z"
    }
   },
   "outputs": [],
   "source": [
    "# most improved"
   ]
  },
  {
   "cell_type": "code",
   "execution_count": 11,
   "metadata": {
    "execution": {
     "iopub.execute_input": "2021-10-16T04:51:14.997995Z",
     "iopub.status.busy": "2021-10-16T04:51:14.997735Z",
     "iopub.status.idle": "2021-10-16T04:51:14.999076Z",
     "shell.execute_reply": "2021-10-16T04:51:14.999283Z"
    }
   },
   "outputs": [],
   "source": [
    "# most unimproved\n"
   ]
  }
 ],
 "metadata": {
  "anaconda-cloud": {},
  "kernelspec": {
   "display_name": "Python 3",
   "language": "python",
   "name": "python3"
  },
  "language_info": {
   "codemirror_mode": {
    "name": "ipython",
    "version": 3
   },
   "file_extension": ".py",
   "mimetype": "text/x-python",
   "name": "python",
   "nbconvert_exporter": "python",
   "pygments_lexer": "ipython3",
   "version": "3.8.11"
  }
 },
 "nbformat": 4,
 "nbformat_minor": 4
}
