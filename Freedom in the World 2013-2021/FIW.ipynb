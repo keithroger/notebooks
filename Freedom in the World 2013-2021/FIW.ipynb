{
 "cells": [
  {
   "cell_type": "code",
   "execution_count": 1,
   "metadata": {
    "execution": {
     "iopub.execute_input": "2021-10-16T02:00:03.335720Z",
     "iopub.status.busy": "2021-10-16T02:00:03.335198Z",
     "iopub.status.idle": "2021-10-16T02:00:03.796561Z",
     "shell.execute_reply": "2021-10-16T02:00:03.796027Z"
    }
   },
   "outputs": [],
   "source": [
    "import pandas as pd\n",
    "import seaborn as sns\n"
   ]
  },
  {
   "cell_type": "markdown",
   "metadata": {},
   "source": [
    "# Freedom in the World 2013 - 2021 EDA\n",
    "dataset is available from https://freedomhouse.org/report/freedom-world"
   ]
  },
  {
   "cell_type": "code",
   "execution_count": 2,
   "metadata": {
    "execution": {
     "iopub.execute_input": "2021-10-16T02:00:03.799883Z",
     "iopub.status.busy": "2021-10-16T02:00:03.799387Z",
     "iopub.status.idle": "2021-10-16T02:00:04.420144Z",
     "shell.execute_reply": "2021-10-16T02:00:04.420578Z"
    }
   },
   "outputs": [
    {
     "data": {
      "text/html": [
       "<div>\n",
       "<style scoped>\n",
       "    .dataframe tbody tr th:only-of-type {\n",
       "        vertical-align: middle;\n",
       "    }\n",
       "\n",
       "    .dataframe tbody tr th {\n",
       "        vertical-align: top;\n",
       "    }\n",
       "\n",
       "    .dataframe thead th {\n",
       "        text-align: right;\n",
       "    }\n",
       "</style>\n",
       "<table border=\"1\" class=\"dataframe\">\n",
       "  <thead>\n",
       "    <tr style=\"text-align: right;\">\n",
       "      <th></th>\n",
       "      <th>Country/Territory</th>\n",
       "      <th>Region</th>\n",
       "      <th>C/T</th>\n",
       "      <th>Edition</th>\n",
       "      <th>Status</th>\n",
       "      <th>PR rating</th>\n",
       "      <th>CL rating</th>\n",
       "      <th>PR</th>\n",
       "      <th>CL</th>\n",
       "      <th>Total</th>\n",
       "    </tr>\n",
       "  </thead>\n",
       "  <tbody>\n",
       "    <tr>\n",
       "      <th>0</th>\n",
       "      <td>Abkhazia</td>\n",
       "      <td>Eurasia</td>\n",
       "      <td>t</td>\n",
       "      <td>2021</td>\n",
       "      <td>PF</td>\n",
       "      <td>5</td>\n",
       "      <td>5</td>\n",
       "      <td>17</td>\n",
       "      <td>23</td>\n",
       "      <td>40</td>\n",
       "    </tr>\n",
       "    <tr>\n",
       "      <th>1</th>\n",
       "      <td>Afghanistan</td>\n",
       "      <td>Asia</td>\n",
       "      <td>c</td>\n",
       "      <td>2021</td>\n",
       "      <td>NF</td>\n",
       "      <td>5</td>\n",
       "      <td>6</td>\n",
       "      <td>13</td>\n",
       "      <td>14</td>\n",
       "      <td>27</td>\n",
       "    </tr>\n",
       "    <tr>\n",
       "      <th>2</th>\n",
       "      <td>Albania</td>\n",
       "      <td>Europe</td>\n",
       "      <td>c</td>\n",
       "      <td>2021</td>\n",
       "      <td>PF</td>\n",
       "      <td>3</td>\n",
       "      <td>3</td>\n",
       "      <td>27</td>\n",
       "      <td>39</td>\n",
       "      <td>66</td>\n",
       "    </tr>\n",
       "    <tr>\n",
       "      <th>3</th>\n",
       "      <td>Algeria</td>\n",
       "      <td>MENA</td>\n",
       "      <td>c</td>\n",
       "      <td>2021</td>\n",
       "      <td>NF</td>\n",
       "      <td>6</td>\n",
       "      <td>5</td>\n",
       "      <td>10</td>\n",
       "      <td>22</td>\n",
       "      <td>32</td>\n",
       "    </tr>\n",
       "    <tr>\n",
       "      <th>4</th>\n",
       "      <td>Andorra</td>\n",
       "      <td>Europe</td>\n",
       "      <td>c</td>\n",
       "      <td>2021</td>\n",
       "      <td>F</td>\n",
       "      <td>1</td>\n",
       "      <td>1</td>\n",
       "      <td>38</td>\n",
       "      <td>55</td>\n",
       "      <td>93</td>\n",
       "    </tr>\n",
       "  </tbody>\n",
       "</table>\n",
       "</div>"
      ],
      "text/plain": [
       "  Country/Territory   Region C/T  Edition Status  PR rating  CL rating  PR  \\\n",
       "0          Abkhazia  Eurasia   t     2021     PF          5          5  17   \n",
       "1       Afghanistan     Asia   c     2021     NF          5          6  13   \n",
       "2           Albania   Europe   c     2021     PF          3          3  27   \n",
       "3           Algeria     MENA   c     2021     NF          6          5  10   \n",
       "4           Andorra   Europe   c     2021      F          1          1  38   \n",
       "\n",
       "   CL  Total  \n",
       "0  23     40  \n",
       "1  14     27  \n",
       "2  39     66  \n",
       "3  22     32  \n",
       "4  55     93  "
      ]
     },
     "execution_count": 2,
     "metadata": {},
     "output_type": "execute_result"
    }
   ],
   "source": [
    "# import excel sheet\n",
    "# remove unneeded columns and rows\n",
    "excel_filename = 'All_data_FIW_2013-2021.xlsx'\n",
    "FIW_2013_2021 = pd.read_excel(\n",
    "        excel_filename,\n",
    "        sheet_name=1,\n",
    "        header=1,\n",
    "        usecols='A:G, W, AQ, AR')\n",
    "FIW_2013_2021.head()"
   ]
  },
  {
   "cell_type": "code",
   "execution_count": 3,
   "metadata": {
    "execution": {
     "iopub.execute_input": "2021-10-16T02:00:04.423136Z",
     "iopub.status.busy": "2021-10-16T02:00:04.422648Z",
     "iopub.status.idle": "2021-10-16T02:00:04.424306Z",
     "shell.execute_reply": "2021-10-16T02:00:04.423820Z"
    }
   },
   "outputs": [],
   "source": [
    "# PR vs CL dot plot with histograms on the sides"
   ]
  },
  {
   "cell_type": "code",
   "execution_count": 4,
   "metadata": {
    "execution": {
     "iopub.execute_input": "2021-10-16T02:00:04.426527Z",
     "iopub.status.busy": "2021-10-16T02:00:04.426062Z",
     "iopub.status.idle": "2021-10-16T02:00:04.427258Z",
     "shell.execute_reply": "2021-10-16T02:00:04.427649Z"
    }
   },
   "outputs": [],
   "source": [
    "# Bar graph of all counties in 2021"
   ]
  },
  {
   "cell_type": "code",
   "execution_count": 5,
   "metadata": {
    "execution": {
     "iopub.execute_input": "2021-10-16T02:00:04.429775Z",
     "iopub.status.busy": "2021-10-16T02:00:04.429318Z",
     "iopub.status.idle": "2021-10-16T02:00:04.431029Z",
     "shell.execute_reply": "2021-10-16T02:00:04.430620Z"
    }
   },
   "outputs": [],
   "source": [
    "# PR vs CL diagonal corrolation matrix"
   ]
  },
  {
   "cell_type": "code",
   "execution_count": 6,
   "metadata": {
    "execution": {
     "iopub.execute_input": "2021-10-16T02:00:04.433132Z",
     "iopub.status.busy": "2021-10-16T02:00:04.432660Z",
     "iopub.status.idle": "2021-10-16T02:00:04.434318Z",
     "shell.execute_reply": "2021-10-16T02:00:04.433897Z"
    }
   },
   "outputs": [],
   "source": [
    "# counties vs PR vs CL violin plot"
   ]
  },
  {
   "cell_type": "code",
   "execution_count": 7,
   "metadata": {
    "execution": {
     "iopub.execute_input": "2021-10-16T02:00:04.436482Z",
     "iopub.status.busy": "2021-10-16T02:00:04.436030Z",
     "iopub.status.idle": "2021-10-16T02:00:04.437630Z",
     "shell.execute_reply": "2021-10-16T02:00:04.437250Z"
    }
   },
   "outputs": [],
   "source": [
    "# linegraph with biggest economies (country by time)"
   ]
  },
  {
   "cell_type": "code",
   "execution_count": 8,
   "metadata": {
    "execution": {
     "iopub.execute_input": "2021-10-16T02:00:04.439344Z",
     "iopub.status.busy": "2021-10-16T02:00:04.438886Z",
     "iopub.status.idle": "2021-10-16T02:00:04.440871Z",
     "shell.execute_reply": "2021-10-16T02:00:04.440445Z"
    }
   },
   "outputs": [],
   "source": [
    "# 2d historgram of counties by time"
   ]
  },
  {
   "cell_type": "code",
   "execution_count": 9,
   "metadata": {
    "execution": {
     "iopub.execute_input": "2021-10-16T02:00:04.442886Z",
     "iopub.status.busy": "2021-10-16T02:00:04.442439Z",
     "iopub.status.idle": "2021-10-16T02:00:04.443663Z",
     "shell.execute_reply": "2021-10-16T02:00:04.444045Z"
    }
   },
   "outputs": [],
   "source": [
    "# avg scores vs time"
   ]
  },
  {
   "cell_type": "code",
   "execution_count": 10,
   "metadata": {
    "execution": {
     "iopub.execute_input": "2021-10-16T02:00:04.445750Z",
     "iopub.status.busy": "2021-10-16T02:00:04.445299Z",
     "iopub.status.idle": "2021-10-16T02:00:04.446867Z",
     "shell.execute_reply": "2021-10-16T02:00:04.447244Z"
    }
   },
   "outputs": [],
   "source": [
    "# most improved"
   ]
  },
  {
   "cell_type": "code",
   "execution_count": 11,
   "metadata": {
    "execution": {
     "iopub.execute_input": "2021-10-16T02:00:04.449361Z",
     "iopub.status.busy": "2021-10-16T02:00:04.448906Z",
     "iopub.status.idle": "2021-10-16T02:00:04.450504Z",
     "shell.execute_reply": "2021-10-16T02:00:04.450097Z"
    }
   },
   "outputs": [],
   "source": [
    "# most unimproved\n"
   ]
  }
 ],
 "metadata": {
  "anaconda-cloud": {},
  "kernelspec": {
   "display_name": "Python 3",
   "language": "python",
   "name": "python3"
  },
  "language_info": {
   "codemirror_mode": {
    "name": "ipython",
    "version": 3
   },
   "file_extension": ".py",
   "mimetype": "text/x-python",
   "name": "python",
   "nbconvert_exporter": "python",
   "pygments_lexer": "ipython3",
   "version": "3.8.11"
  }
 },
 "nbformat": 4,
 "nbformat_minor": 4
}
