{
 "cells": [
  {
   "cell_type": "code",
   "execution_count": 1,
   "metadata": {
    "execution": {
     "iopub.execute_input": "2021-10-16T05:07:02.834643Z",
     "iopub.status.busy": "2021-10-16T05:07:02.834365Z",
     "iopub.status.idle": "2021-10-16T05:07:03.289045Z",
     "shell.execute_reply": "2021-10-16T05:07:03.288536Z"
    }
   },
   "outputs": [],
   "source": [
    "import pandas as pd\n",
    "import seaborn as sns\n"
   ]
  },
  {
   "cell_type": "markdown",
   "metadata": {},
   "source": [
    "# Freedom in the World 2013 - 2021 EDA\n",
    "dataset is available from https://freedomhouse.org/report/freedom-world"
   ]
  },
  {
   "cell_type": "code",
   "execution_count": 2,
   "metadata": {
    "execution": {
     "iopub.execute_input": "2021-10-16T05:07:03.292328Z",
     "iopub.status.busy": "2021-10-16T05:07:03.291841Z",
     "iopub.status.idle": "2021-10-16T05:07:03.945391Z",
     "shell.execute_reply": "2021-10-16T05:07:03.945786Z"
    }
   },
   "outputs": [
    {
     "data": {
      "text/html": [
       "<div>\n",
       "<style scoped>\n",
       "    .dataframe tbody tr th:only-of-type {\n",
       "        vertical-align: middle;\n",
       "    }\n",
       "\n",
       "    .dataframe tbody tr th {\n",
       "        vertical-align: top;\n",
       "    }\n",
       "\n",
       "    .dataframe thead th {\n",
       "        text-align: right;\n",
       "    }\n",
       "</style>\n",
       "<table border=\"1\" class=\"dataframe\">\n",
       "  <thead>\n",
       "    <tr style=\"text-align: right;\">\n",
       "      <th></th>\n",
       "      <th>Country/Territory</th>\n",
       "      <th>Region</th>\n",
       "      <th>Edition</th>\n",
       "      <th>Status</th>\n",
       "      <th>PR rating</th>\n",
       "      <th>CL rating</th>\n",
       "      <th>PR</th>\n",
       "      <th>CL</th>\n",
       "      <th>Total</th>\n",
       "    </tr>\n",
       "  </thead>\n",
       "  <tbody>\n",
       "    <tr>\n",
       "      <th>1</th>\n",
       "      <td>Afghanistan</td>\n",
       "      <td>Asia</td>\n",
       "      <td>2021</td>\n",
       "      <td>NF</td>\n",
       "      <td>5</td>\n",
       "      <td>6</td>\n",
       "      <td>13</td>\n",
       "      <td>14</td>\n",
       "      <td>27</td>\n",
       "    </tr>\n",
       "    <tr>\n",
       "      <th>2</th>\n",
       "      <td>Albania</td>\n",
       "      <td>Europe</td>\n",
       "      <td>2021</td>\n",
       "      <td>PF</td>\n",
       "      <td>3</td>\n",
       "      <td>3</td>\n",
       "      <td>27</td>\n",
       "      <td>39</td>\n",
       "      <td>66</td>\n",
       "    </tr>\n",
       "    <tr>\n",
       "      <th>3</th>\n",
       "      <td>Algeria</td>\n",
       "      <td>MENA</td>\n",
       "      <td>2021</td>\n",
       "      <td>NF</td>\n",
       "      <td>6</td>\n",
       "      <td>5</td>\n",
       "      <td>10</td>\n",
       "      <td>22</td>\n",
       "      <td>32</td>\n",
       "    </tr>\n",
       "    <tr>\n",
       "      <th>4</th>\n",
       "      <td>Andorra</td>\n",
       "      <td>Europe</td>\n",
       "      <td>2021</td>\n",
       "      <td>F</td>\n",
       "      <td>1</td>\n",
       "      <td>1</td>\n",
       "      <td>38</td>\n",
       "      <td>55</td>\n",
       "      <td>93</td>\n",
       "    </tr>\n",
       "    <tr>\n",
       "      <th>5</th>\n",
       "      <td>Angola</td>\n",
       "      <td>SSA</td>\n",
       "      <td>2021</td>\n",
       "      <td>NF</td>\n",
       "      <td>6</td>\n",
       "      <td>5</td>\n",
       "      <td>10</td>\n",
       "      <td>21</td>\n",
       "      <td>31</td>\n",
       "    </tr>\n",
       "  </tbody>\n",
       "</table>\n",
       "</div>"
      ],
      "text/plain": [
       "  Country/Territory  Region  Edition Status  PR rating  CL rating  PR  CL  \\\n",
       "1       Afghanistan    Asia     2021     NF          5          6  13  14   \n",
       "2           Albania  Europe     2021     PF          3          3  27  39   \n",
       "3           Algeria    MENA     2021     NF          6          5  10  22   \n",
       "4           Andorra  Europe     2021      F          1          1  38  55   \n",
       "5            Angola     SSA     2021     NF          6          5  10  21   \n",
       "\n",
       "   Total  \n",
       "1     27  \n",
       "2     66  \n",
       "3     32  \n",
       "4     93  \n",
       "5     31  "
      ]
     },
     "execution_count": 2,
     "metadata": {},
     "output_type": "execute_result"
    }
   ],
   "source": [
    "# Read country data from excel file\n",
    "excel_filename = 'All_data_FIW_2013-2021.xlsx'\n",
    "fiw = pd.read_excel(\n",
    "        excel_filename,\n",
    "        sheet_name=1,\n",
    "        header=1,\n",
    "        usecols='A:G, W, AQ, AR')\n",
    "fiw.head()\n",
    "# Remove territories from dataset\n",
    "countries = fiw[fiw['C/T'] == 'c']\n",
    "countries = countries.drop('C/T', axis=1)\n",
    "# TODO: rename country column\n",
    "countries.head()"
   ]
  },
  {
   "cell_type": "code",
   "execution_count": 3,
   "metadata": {
    "execution": {
     "iopub.execute_input": "2021-10-16T05:07:03.948578Z",
     "iopub.status.busy": "2021-10-16T05:07:03.948121Z",
     "iopub.status.idle": "2021-10-16T05:07:03.949345Z",
     "shell.execute_reply": "2021-10-16T05:07:03.949728Z"
    }
   },
   "outputs": [],
   "source": [
    "# Bar graph of all counties in 2021"
   ]
  },
  {
   "cell_type": "code",
   "execution_count": 4,
   "metadata": {
    "execution": {
     "iopub.execute_input": "2021-10-16T05:07:03.951816Z",
     "iopub.status.busy": "2021-10-16T05:07:03.951364Z",
     "iopub.status.idle": "2021-10-16T05:07:03.952634Z",
     "shell.execute_reply": "2021-10-16T05:07:03.953035Z"
    }
   },
   "outputs": [],
   "source": [
    "# PR vs CL dot plot with histograms on the sides"
   ]
  },
  {
   "cell_type": "code",
   "execution_count": 5,
   "metadata": {
    "execution": {
     "iopub.execute_input": "2021-10-16T05:07:03.955465Z",
     "iopub.status.busy": "2021-10-16T05:07:03.955021Z",
     "iopub.status.idle": "2021-10-16T05:07:03.956827Z",
     "shell.execute_reply": "2021-10-16T05:07:03.956379Z"
    }
   },
   "outputs": [],
   "source": [
    "# PR vs CL diagonal corrolation matrix"
   ]
  },
  {
   "cell_type": "code",
   "execution_count": 6,
   "metadata": {
    "execution": {
     "iopub.execute_input": "2021-10-16T05:07:03.958839Z",
     "iopub.status.busy": "2021-10-16T05:07:03.958395Z",
     "iopub.status.idle": "2021-10-16T05:07:03.960117Z",
     "shell.execute_reply": "2021-10-16T05:07:03.959719Z"
    }
   },
   "outputs": [],
   "source": [
    "# counties vs PR vs CL violin plot"
   ]
  },
  {
   "cell_type": "code",
   "execution_count": 7,
   "metadata": {
    "execution": {
     "iopub.execute_input": "2021-10-16T05:07:03.962861Z",
     "iopub.status.busy": "2021-10-16T05:07:03.962416Z",
     "iopub.status.idle": "2021-10-16T05:07:03.963921Z",
     "shell.execute_reply": "2021-10-16T05:07:03.964278Z"
    }
   },
   "outputs": [],
   "source": [
    "# linegraph with biggest economies (country by time)"
   ]
  },
  {
   "cell_type": "code",
   "execution_count": 8,
   "metadata": {
    "execution": {
     "iopub.execute_input": "2021-10-16T05:07:03.965978Z",
     "iopub.status.busy": "2021-10-16T05:07:03.965532Z",
     "iopub.status.idle": "2021-10-16T05:07:03.967626Z",
     "shell.execute_reply": "2021-10-16T05:07:03.967168Z"
    }
   },
   "outputs": [],
   "source": [
    "# 2d historgram of counties by time"
   ]
  },
  {
   "cell_type": "code",
   "execution_count": 9,
   "metadata": {
    "execution": {
     "iopub.execute_input": "2021-10-16T05:07:03.969621Z",
     "iopub.status.busy": "2021-10-16T05:07:03.969177Z",
     "iopub.status.idle": "2021-10-16T05:07:03.970914Z",
     "shell.execute_reply": "2021-10-16T05:07:03.970462Z"
    }
   },
   "outputs": [],
   "source": [
    "# avg scores vs time"
   ]
  },
  {
   "cell_type": "code",
   "execution_count": 10,
   "metadata": {
    "execution": {
     "iopub.execute_input": "2021-10-16T05:07:03.972861Z",
     "iopub.status.busy": "2021-10-16T05:07:03.972416Z",
     "iopub.status.idle": "2021-10-16T05:07:03.974245Z",
     "shell.execute_reply": "2021-10-16T05:07:03.973794Z"
    }
   },
   "outputs": [],
   "source": [
    "# most improved"
   ]
  },
  {
   "cell_type": "code",
   "execution_count": 11,
   "metadata": {
    "execution": {
     "iopub.execute_input": "2021-10-16T05:07:03.976244Z",
     "iopub.status.busy": "2021-10-16T05:07:03.975799Z",
     "iopub.status.idle": "2021-10-16T05:07:03.977496Z",
     "shell.execute_reply": "2021-10-16T05:07:03.977046Z"
    }
   },
   "outputs": [],
   "source": [
    "# most unimproved\n"
   ]
  }
 ],
 "metadata": {
  "anaconda-cloud": {},
  "kernelspec": {
   "display_name": "Python 3",
   "language": "python",
   "name": "python3"
  },
  "language_info": {
   "codemirror_mode": {
    "name": "ipython",
    "version": 3
   },
   "file_extension": ".py",
   "mimetype": "text/x-python",
   "name": "python",
   "nbconvert_exporter": "python",
   "pygments_lexer": "ipython3",
   "version": "3.8.11"
  }
 },
 "nbformat": 4,
 "nbformat_minor": 4
}
