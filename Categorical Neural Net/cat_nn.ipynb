{
 "cells": [
  {
   "cell_type": "markdown",
   "metadata": {},
   "source": [
    "# Machine Learning Model Comparison\n",
    "\n",
    "This notebook will work on a mushroom data set to view how different machine\n",
    "learning models perform with categorical data.\n",
    "\n",
    "Data set availible from https://archive.ics.uci.edu/ml/datasets/Mushroom"
   ]
  },
  {
   "cell_type": "code",
   "execution_count": 1,
   "metadata": {
    "execution": {
     "iopub.execute_input": "2021-11-04T01:15:41.294642Z",
     "iopub.status.busy": "2021-11-04T01:15:41.288640Z",
     "iopub.status.idle": "2021-11-04T01:15:42.461275Z",
     "shell.execute_reply": "2021-11-04T01:15:42.460738Z"
    }
   },
   "outputs": [
    {
     "name": "stderr",
     "output_type": "stream",
     "text": [
      "2021-11-03 18:15:41.827421: I tensorflow/stream_executor/platform/default/dso_loader.cc:49] Successfully opened dynamic library libcudart.so.10.1\n"
     ]
    }
   ],
   "source": [
    "import pandas as pd\n",
    "import matplotlib.pyplot as plt\n",
    "from sklearn.preprocessing import LabelEncoder, OneHotEncoder\n",
    "from sklearn.model_selection import train_test_split\n",
    "from tensorflow.keras.models import Sequential\n",
    "from tensorflow.keras.layers import Dense, LeakyReLU, Dropout\n"
   ]
  },
  {
   "cell_type": "markdown",
   "metadata": {},
   "source": [
    "## Column Information"
   ]
  },
  {
   "cell_type": "markdown",
   "metadata": {},
   "source": [
    "| class| cap-shape | cap-surface | cap-color | bruises? | odor | gill-attachment | gill-spacing | gill-size | gill-color | stalk-shape | stalk-root | stalk-surface-above-ring | stalk-surface-below-ring |stalk-color-above-ring | stalk-color-below-ring | veil-type | veil-color | ring-number | ring_type | spore-rint-color | population | habitat |\n",
    "| --- | --- | --- | --- | --- | --- | --- | --- | --- | --- | --- | --- | --- | --- | --- | --- | --- | --- | --- | --- | --- | --- | --- |\n",
    "| edible=e |bell=b |fibrous=f |brown=n |bruises=t |almond=a |attached=a |close=c |broad=b |black=k |enlarging=e |bulbous=b |fibrous=f |fibrous=f |brown=n |brown=n |partial=p |brown=n |none=n |cobwebby=c |black=k |abundant=a |grasses=g |\n",
    "| poisonous=p |conical=c |grooves=g |buff=b |no=f |anise=l |descending=d |crowded=w |narrow=n |brown=n |tapering=t |club=c |scaly=y |scaly=y |buff=b |buff=b |universal=u |orange=o |one=o |evanescent=e |brown=n |clustered=c |leaves=l |\n",
    "|   |convex=x |scaly=y |cinnamon=c |  |creosote=c |free=f |distant=d |  |buff=b |  |cup=u |silky=k |silky=k |cinnamon=c |cinnamon=c |  |white=w |two=t |flaring=f |buff=b |numerous=n |meadows=m |\n",
    "|   |flat=f |smooth=s |gray=g |  |fishy=y |notched=n |  |  |chocolate=h |  |equal=e |smooth=s |smooth=s |gray=g |gray=g |  |yellow=y |  |large=l |chocolate=h |scattered=s |paths=p |\n",
    "|   |knobbed=k |  |green=r |  |foul=f |  |  |  |gray=g |  |rhizomorphs=z |  |  |orange=o |orange=o |  |  |  |none=n |green=r |several=v |urban=u |\n",
    "|   |sunken=s |  |pink=p |  |musty=m |  |  |  |green=r |  |rooted=r |  |  |pink=p |pink=p |  |  |  |pendant=p |orange=o |solitary=y |waste=w |\n",
    "|   |  |  |purple=u |  |none=n |  |  |  |orange=o |  |missing=? |  |  |red=e |red=e |  |  |  |sheathing=s |purple=u |  |woods=d |\n",
    "|   |  |  |red=e |  |pungent=p |  |  |  |pink=p |  |  |  |  |white=w |white=w |  |  |  |zone=z |white=w |  |  |\n",
    "|   |  |  |white=w |  |spicy=s |  |  |  |purple=u |  |  |  |  |yellow=y |yellow=y |  |  |  |  |yellow=y |  |  |\n",
    "|   |  |  |yellow=y |  |  |  |  |  |red=e |  |  |  |  |  |  |  |  |  |  |  |  |  |\n",
    "|   |  |  |  |  |  |  |  |  |white=w |  |  |  |  |  |  |  |  |  |  |  |  |  |\n",
    "|   |  |  |  |  |  |  |  |  |yellow=y |  |  |  |  |  |  |  |  |  |  |  |  |  |"
   ]
  },
  {
   "cell_type": "markdown",
   "metadata": {},
   "source": [
    "## Loads mushroom dataset and names columns"
   ]
  },
  {
   "cell_type": "code",
   "execution_count": 2,
   "metadata": {
    "execution": {
     "iopub.execute_input": "2021-11-04T01:15:42.465135Z",
     "iopub.status.busy": "2021-11-04T01:15:42.464617Z",
     "iopub.status.idle": "2021-11-04T01:15:42.473948Z",
     "shell.execute_reply": "2021-11-04T01:15:42.473482Z"
    }
   },
   "outputs": [],
   "source": [
    "column_names = [\n",
    "        'class', 'cap-shape', 'cap-surface', 'cap-color', 'bruises?',\n",
    "        'oder', 'gill-attatchment', 'gill-spacing', 'gill-size',\n",
    "        'gill-color', 'stalk-shape', 'stalk-root',\n",
    "        'stalk-surface-above-ring', 'stalk-surface-below-ring',\n",
    "        'stalk-color-above-ring', 'stalk-color-below-ring', 'veil-type',\n",
    "        'veil-color', 'ring-number', 'ring-type', 'spore-print-color',\n",
    "        'population', 'habitat']\n",
    "df = pd.read_csv('data/agaricus-lepiota.data', names=column_names)\n"
   ]
  },
  {
   "cell_type": "markdown",
   "metadata": {},
   "source": [
    "## Splits train and test set"
   ]
  },
  {
   "cell_type": "code",
   "execution_count": 3,
   "metadata": {
    "execution": {
     "iopub.execute_input": "2021-11-04T01:15:42.477326Z",
     "iopub.status.busy": "2021-11-04T01:15:42.476820Z",
     "iopub.status.idle": "2021-11-04T01:15:42.479952Z",
     "shell.execute_reply": "2021-11-04T01:15:42.479525Z"
    }
   },
   "outputs": [],
   "source": [
    "X = df.iloc[:, 1:]\n",
    "y = df.iloc[:, 0]\n",
    "X_train, X_test, y_train, y_test = train_test_split(X, y, test_size=0.2)\n"
   ]
  },
  {
   "cell_type": "markdown",
   "metadata": {},
   "source": [
    "## Encode categorical data\n",
    "Use OneHotEncoder for X and use LabelEncoder for y"
   ]
  },
  {
   "cell_type": "code",
   "execution_count": 4,
   "metadata": {
    "execution": {
     "iopub.execute_input": "2021-11-04T01:15:42.487686Z",
     "iopub.status.busy": "2021-11-04T01:15:42.487178Z",
     "iopub.status.idle": "2021-11-04T01:15:42.515872Z",
     "shell.execute_reply": "2021-11-04T01:15:42.515444Z"
    }
   },
   "outputs": [],
   "source": [
    "ohe = OneHotEncoder()\n",
    "ohe.fit(X_train)\n",
    "X_train_encoded = ohe.transform(X_train)\n",
    "X_test_encoded = ohe.transform(X_test)\n",
    "le = LabelEncoder()\n",
    "le.fit(y_train)\n",
    "y_train_encoded = le.transform(y_train)\n",
    "y_test_encoded = le.transform(y_test)\n"
   ]
  },
  {
   "cell_type": "markdown",
   "metadata": {},
   "source": [
    "## Create a nueral network model"
   ]
  },
  {
   "cell_type": "code",
   "execution_count": 5,
   "metadata": {
    "execution": {
     "iopub.execute_input": "2021-11-04T01:15:42.519721Z",
     "iopub.status.busy": "2021-11-04T01:15:42.518803Z",
     "iopub.status.idle": "2021-11-04T01:15:43.026197Z",
     "shell.execute_reply": "2021-11-04T01:15:43.026680Z"
    }
   },
   "outputs": [
    {
     "name": "stderr",
     "output_type": "stream",
     "text": [
      "2021-11-03 18:15:42.524765: I tensorflow/compiler/jit/xla_cpu_device.cc:41] Not creating XLA devices, tf_xla_enable_xla_devices not set\n",
      "2021-11-03 18:15:42.525283: I tensorflow/stream_executor/platform/default/dso_loader.cc:49] Successfully opened dynamic library libcuda.so.1\n",
      "2021-11-03 18:15:42.630900: I tensorflow/stream_executor/cuda/cuda_gpu_executor.cc:941] successful NUMA node read from SysFS had negative value (-1), but there must be at least one NUMA node, so returning NUMA node zero\n",
      "2021-11-03 18:15:42.631339: I tensorflow/core/common_runtime/gpu/gpu_device.cc:1720] Found device 0 with properties: \n",
      "pciBusID: 0000:27:00.0 name: NVIDIA GeForce RTX 2060 computeCapability: 7.5\n",
      "coreClock: 1.68GHz coreCount: 30 deviceMemorySize: 5.79GiB deviceMemoryBandwidth: 312.97GiB/s\n",
      "2021-11-03 18:15:42.631414: I tensorflow/stream_executor/platform/default/dso_loader.cc:49] Successfully opened dynamic library libcudart.so.10.1\n",
      "2021-11-03 18:15:42.632354: I tensorflow/stream_executor/platform/default/dso_loader.cc:49] Successfully opened dynamic library libcublas.so.10\n",
      "2021-11-03 18:15:42.632378: I tensorflow/stream_executor/platform/default/dso_loader.cc:49] Successfully opened dynamic library libcublasLt.so.10\n",
      "2021-11-03 18:15:42.633332: I tensorflow/stream_executor/platform/default/dso_loader.cc:49] Successfully opened dynamic library libcufft.so.10\n",
      "2021-11-03 18:15:42.633463: I tensorflow/stream_executor/platform/default/dso_loader.cc:49] Successfully opened dynamic library libcurand.so.10\n",
      "2021-11-03 18:15:42.634366: I tensorflow/stream_executor/platform/default/dso_loader.cc:49] Successfully opened dynamic library libcusolver.so.10\n",
      "2021-11-03 18:15:42.634913: I tensorflow/stream_executor/platform/default/dso_loader.cc:49] Successfully opened dynamic library libcusparse.so.10\n",
      "2021-11-03 18:15:42.636923: I tensorflow/stream_executor/platform/default/dso_loader.cc:49] Successfully opened dynamic library libcudnn.so.7\n",
      "2021-11-03 18:15:42.637028: I tensorflow/stream_executor/cuda/cuda_gpu_executor.cc:941] successful NUMA node read from SysFS had negative value (-1), but there must be at least one NUMA node, so returning NUMA node zero\n",
      "2021-11-03 18:15:42.637393: I tensorflow/stream_executor/cuda/cuda_gpu_executor.cc:941] successful NUMA node read from SysFS had negative value (-1), but there must be at least one NUMA node, so returning NUMA node zero\n",
      "2021-11-03 18:15:42.637673: I tensorflow/core/common_runtime/gpu/gpu_device.cc:1862] Adding visible gpu devices: 0\n",
      "2021-11-03 18:15:42.637938: I tensorflow/core/platform/cpu_feature_guard.cc:142] This TensorFlow binary is optimized with oneAPI Deep Neural Network Library (oneDNN) to use the following CPU instructions in performance-critical operations:  SSE4.1 SSE4.2 AVX AVX2 FMA\n",
      "To enable them in other operations, rebuild TensorFlow with the appropriate compiler flags.\n",
      "2021-11-03 18:15:42.638463: I tensorflow/stream_executor/cuda/cuda_gpu_executor.cc:941] successful NUMA node read from SysFS had negative value (-1), but there must be at least one NUMA node, so returning NUMA node zero\n",
      "2021-11-03 18:15:42.638760: I tensorflow/core/common_runtime/gpu/gpu_device.cc:1720] Found device 0 with properties: \n",
      "pciBusID: 0000:27:00.0 name: NVIDIA GeForce RTX 2060 computeCapability: 7.5\n",
      "coreClock: 1.68GHz coreCount: 30 deviceMemorySize: 5.79GiB deviceMemoryBandwidth: 312.97GiB/s\n",
      "2021-11-03 18:15:42.638778: I tensorflow/stream_executor/platform/default/dso_loader.cc:49] Successfully opened dynamic library libcudart.so.10.1\n",
      "2021-11-03 18:15:42.638789: I tensorflow/stream_executor/platform/default/dso_loader.cc:49] Successfully opened dynamic library libcublas.so.10\n",
      "2021-11-03 18:15:42.638798: I tensorflow/stream_executor/platform/default/dso_loader.cc:49] Successfully opened dynamic library libcublasLt.so.10\n",
      "2021-11-03 18:15:42.638807: I tensorflow/stream_executor/platform/default/dso_loader.cc:49] Successfully opened dynamic library libcufft.so.10\n",
      "2021-11-03 18:15:42.638816: I tensorflow/stream_executor/platform/default/dso_loader.cc:49] Successfully opened dynamic library libcurand.so.10\n",
      "2021-11-03 18:15:42.638824: I tensorflow/stream_executor/platform/default/dso_loader.cc:49] Successfully opened dynamic library libcusolver.so.10\n",
      "2021-11-03 18:15:42.638833: I tensorflow/stream_executor/platform/default/dso_loader.cc:49] Successfully opened dynamic library libcusparse.so.10\n",
      "2021-11-03 18:15:42.638842: I tensorflow/stream_executor/platform/default/dso_loader.cc:49] Successfully opened dynamic library libcudnn.so.7\n",
      "2021-11-03 18:15:42.638879: I tensorflow/stream_executor/cuda/cuda_gpu_executor.cc:941] successful NUMA node read from SysFS had negative value (-1), but there must be at least one NUMA node, so returning NUMA node zero\n",
      "2021-11-03 18:15:42.639189: I tensorflow/stream_executor/cuda/cuda_gpu_executor.cc:941] successful NUMA node read from SysFS had negative value (-1), but there must be at least one NUMA node, so returning NUMA node zero\n",
      "2021-11-03 18:15:42.639463: I tensorflow/core/common_runtime/gpu/gpu_device.cc:1862] Adding visible gpu devices: 0\n",
      "2021-11-03 18:15:42.639485: I tensorflow/stream_executor/platform/default/dso_loader.cc:49] Successfully opened dynamic library libcudart.so.10.1\n",
      "2021-11-03 18:15:42.962941: I tensorflow/core/common_runtime/gpu/gpu_device.cc:1261] Device interconnect StreamExecutor with strength 1 edge matrix:\n",
      "2021-11-03 18:15:42.962967: I tensorflow/core/common_runtime/gpu/gpu_device.cc:1267]      0 \n",
      "2021-11-03 18:15:42.962971: I tensorflow/core/common_runtime/gpu/gpu_device.cc:1280] 0:   N \n",
      "2021-11-03 18:15:42.963178: I tensorflow/stream_executor/cuda/cuda_gpu_executor.cc:941] successful NUMA node read from SysFS had negative value (-1), but there must be at least one NUMA node, so returning NUMA node zero\n",
      "2021-11-03 18:15:42.963499: I tensorflow/stream_executor/cuda/cuda_gpu_executor.cc:941] successful NUMA node read from SysFS had negative value (-1), but there must be at least one NUMA node, so returning NUMA node zero\n",
      "2021-11-03 18:15:42.963788: I tensorflow/stream_executor/cuda/cuda_gpu_executor.cc:941] successful NUMA node read from SysFS had negative value (-1), but there must be at least one NUMA node, so returning NUMA node zero\n",
      "2021-11-03 18:15:42.964058: I tensorflow/core/common_runtime/gpu/gpu_device.cc:1406] Created TensorFlow device (/job:localhost/replica:0/task:0/device:GPU:0 with 5184 MB memory) -> physical GPU (device: 0, name: NVIDIA GeForce RTX 2060, pci bus id: 0000:27:00.0, compute capability: 7.5)\n",
      "2021-11-03 18:15:42.964236: I tensorflow/compiler/jit/xla_gpu_device.cc:99] Not creating XLA devices, tf_xla_enable_xla_devices not set\n"
     ]
    }
   ],
   "source": [
    "lr = 2e-3\n",
    "model = Sequential([\n",
    "    Dense(10, input_dim=X_train_encoded.shape[1]),\n",
    "    LeakyReLU(alpha=lr),\n",
    "    Dropout(0.2),\n",
    "    Dense(10),\n",
    "    LeakyReLU(alpha=lr),\n",
    "    Dense(10),\n",
    "    LeakyReLU(alpha=lr),\n",
    "    Dense(1, activation='sigmoid')\n",
    "    ])\n",
    "model.compile(\n",
    "        loss='binary_crossentropy',\n",
    "        optimizer='adam',\n",
    "        metrics=['accuracy'])\n"
   ]
  },
  {
   "cell_type": "markdown",
   "metadata": {},
   "source": [
    "## Train neural network model"
   ]
  },
  {
   "cell_type": "code",
   "execution_count": 6,
   "metadata": {
    "execution": {
     "iopub.execute_input": "2021-11-04T01:15:43.030950Z",
     "iopub.status.busy": "2021-11-04T01:15:43.030342Z",
     "iopub.status.idle": "2021-11-04T01:15:46.108948Z",
     "shell.execute_reply": "2021-11-04T01:15:46.108699Z"
    }
   },
   "outputs": [
    {
     "name": "stdout",
     "output_type": "stream",
     "text": [
      "Epoch 1/5\n",
      "  1/204 [..............................] - ETA: 1:31 - loss: 0.8026 - accuracy: 0.4688"
     ]
    },
    {
     "name": "stderr",
     "output_type": "stream",
     "text": [
      "2021-11-03 18:15:43.318354: I tensorflow/compiler/mlir/mlir_graph_optimization_pass.cc:116] None of the MLIR optimization passes are enabled (registered 2)\n",
      "2021-11-03 18:15:43.320422: I tensorflow/core/platform/profile_utils/cpu_utils.cc:112] CPU Frequency: 3600015000 Hz\n",
      "2021-11-03 18:15:43.371245: I tensorflow/stream_executor/platform/default/dso_loader.cc:49] Successfully opened dynamic library libcublas.so.10\n"
     ]
    },
    {
     "name": "stdout",
     "output_type": "stream",
     "text": [
      "204/204 [==============================] - 1s 3ms/step - loss: 0.5557 - accuracy: 0.6967 - val_loss: 0.0664 - val_accuracy: 0.9877\n",
      "Epoch 2/5\n",
      "204/204 [==============================] - 0s 2ms/step - loss: 0.0814 - accuracy: 0.9736 - val_loss: 0.0119 - val_accuracy: 0.9963\n",
      "Epoch 3/5\n",
      "204/204 [==============================] - 0s 2ms/step - loss: 0.0225 - accuracy: 0.9933 - val_loss: 0.0038 - val_accuracy: 0.9994\n",
      "Epoch 4/5\n",
      "204/204 [==============================] - 0s 2ms/step - loss: 0.0123 - accuracy: 0.9950 - val_loss: 0.0023 - val_accuracy: 0.9994\n",
      "Epoch 5/5\n",
      "204/204 [==============================] - 0s 2ms/step - loss: 0.0085 - accuracy: 0.9970 - val_loss: 8.1131e-04 - val_accuracy: 1.0000\n",
      "51/51 [==============================] - 0s 910us/step - loss: 8.1131e-04 - accuracy: 1.0000\n",
      "Model Test Accuracy:  1.0\n"
     ]
    },
    {
     "data": {
      "image/png": "[encoded data removed]",
      "text/plain": [
       "<Figure size 432x288 with 1 Axes>"
      ]
     },
     "metadata": {
      "needs_background": "light"
     },
     "output_type": "display_data"
    }
   ],
   "source": [
    "epochs = 5\n",
    "history = model.fit(\n",
    "        X_train_encoded,\n",
    "        y_train_encoded,\n",
    "        epochs=epochs,\n",
    "        validation_data=(X_test_encoded, y_test_encoded))\n",
    "fig, ax = plt.subplots()\n",
    "ax.plot(range(1, epochs+1), history.history['val_loss'], label='val_loss')\n",
    "ax.plot(range(1, epochs+1), history.history['loss'], label='loss')\n",
    "plt.xlabel('epochs')\n",
    "plt.ylabel('loss')\n",
    "plt.legend(loc='upper right')\n",
    "plt.savefig('images/loss.png')\n",
    "loss, acc = model.evaluate(X_test_encoded, y_test_encoded)\n",
    "print('Model Test Accuracy: ', acc)\n"
   ]
  }
 ],
 "metadata": {
  "anaconda-cloud": {},
  "kernelspec": {
   "display_name": "Python 3",
   "language": "python",
   "name": "python3"
  },
  "language_info": {
   "codemirror_mode": {
    "name": "ipython",
    "version": 3
   },
   "file_extension": ".py",
   "mimetype": "text/x-python",
   "name": "python",
   "nbconvert_exporter": "python",
   "pygments_lexer": "ipython3",
   "version": "3.8.8"
  }
 },
 "nbformat": 4,
 "nbformat_minor": 4
}
